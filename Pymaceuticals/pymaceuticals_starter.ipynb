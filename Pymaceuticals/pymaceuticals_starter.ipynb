{
 "cells": [
  {
   "cell_type": "markdown",
   "metadata": {},
   "source": [
    "# Capomulin Research Study\n",
    "250 mice identified with SCC tumor growth were treated through a variety of drug regimens. Over the course of 45 days, tumor development was observed and measured. The purpose of this study was to compare the performance of Capomulin versus the nine other treatment regimens."
   ]
  },
  {
   "cell_type": "markdown",
   "metadata": {},
   "source": [
    "## Observations and Insights"
   ]
  },
  {
   "cell_type": "markdown",
   "metadata": {},
   "source": [
    "Look across all figures and tables below and write at least three observations or inferences that can be made from the data."
   ]
  },
  {
   "cell_type": "markdown",
   "metadata": {},
   "source": [
    "## Dependencies and starter code"
   ]
  },
  {
   "cell_type": "markdown",
   "metadata": {},
   "source": [
    "#### Hints and Considerations\n",
    "Use proper labeling of your plots, to include properties such as: plot titles, axis labels, legend labels, x-axis and y-axis limits, etc."
   ]
  },
  {
   "cell_type": "code",
   "execution_count": 1,
   "metadata": {},
   "outputs": [],
   "source": [
    "# Dependencies and Setup\n",
    "import matplotlib.pyplot as plt\n",
    "import pandas as pd\n",
    "import scipy.stats as st # Used for SEM Calcs(?)\n",
    "import numpy as np\n",
    "\n",
    "# Map to study data files\n",
    "mouse_metadata = \"data/Mouse_metadata.csv\"\n",
    "study_results = \"data/Study_results.csv\"\n",
    "\n",
    "# Read in the mouse data and the study results\n",
    "mouse_metadata = pd.read_csv(mouse_metadata)\n",
    "study_results = pd.read_csv(study_results)\n"
   ]
  },
  {
   "cell_type": "code",
   "execution_count": 2,
   "metadata": {
    "scrolled": true
   },
   "outputs": [],
   "source": [
    "#mouse_metadata"
   ]
  },
  {
   "cell_type": "code",
   "execution_count": 3,
   "metadata": {},
   "outputs": [],
   "source": [
    "#study_results"
   ]
  },
  {
   "cell_type": "code",
   "execution_count": 4,
   "metadata": {},
   "outputs": [],
   "source": [
    "# Data check:  mouse_metadata\n",
    "#mouse_metadata.head()\n",
    "#mouse_metadata.describe()\n",
    "#mouse_metadata.dtypes\n",
    "#mouse_metadata.count"
   ]
  },
  {
   "cell_type": "code",
   "execution_count": 5,
   "metadata": {},
   "outputs": [],
   "source": [
    "# Data check:  study_results\n",
    "#study_results.head()\n",
    "#study_results.describe()\n",
    "#study_results.dtypes\n",
    "#study_results.count"
   ]
  },
  {
   "cell_type": "code",
   "execution_count": 6,
   "metadata": {},
   "outputs": [],
   "source": [
    "# Combine the data into a single dataset\n",
    "study_results_complete = pd.merge(mouse_metadata, study_results, how=\"left\", on=[\"Mouse ID\", \"Mouse ID\"])"
   ]
  },
  {
   "cell_type": "code",
   "execution_count": 7,
   "metadata": {},
   "outputs": [],
   "source": [
    "#study_results_complete"
   ]
  },
  {
   "cell_type": "code",
   "execution_count": 8,
   "metadata": {},
   "outputs": [],
   "source": [
    "# Export file as a CSV, without the Pandas index, but with the header\n",
    "#study_results_complete.to_csv(\"data/study_results_complete.csv\", index=False, header=True)"
   ]
  },
  {
   "cell_type": "code",
   "execution_count": 9,
   "metadata": {},
   "outputs": [],
   "source": [
    "#study_results_complete"
   ]
  },
  {
   "cell_type": "code",
   "execution_count": 10,
   "metadata": {},
   "outputs": [],
   "source": [
    "# Data check:  study_results_complete\n",
    "#study_results_complete.head()\n",
    "#study_results_complete.describe()\n",
    "#study_results_complete.dtypes\n",
    "#study_results_complete.count\n",
    "#study_results.groupby('Mouse ID')['Timepoint'].count()"
   ]
  },
  {
   "cell_type": "code",
   "execution_count": 11,
   "metadata": {},
   "outputs": [],
   "source": [
    "# Playing with mean 'Tumor Volume (mm3)'\n",
    "#tumor_volume = study_results_complete['Tumor Volume (mm3)']\n",
    "\n",
    "#mean_tumor_volume = np.mean(tumor_volume)\n",
    "#print(f\"The total mean tumor volume is {mean_tumor_volume}\")"
   ]
  },
  {
   "cell_type": "code",
   "execution_count": 12,
   "metadata": {},
   "outputs": [],
   "source": [
    "#mean_tumor_volume = np.mean(tumor_volume)\n",
    "#print(f\"The total mean tumor volume is {mean_tumor_volume}\")"
   ]
  },
  {
   "cell_type": "code",
   "execution_count": 13,
   "metadata": {},
   "outputs": [],
   "source": [
    "# Playing with mean 'Tumor Volume (mm3)'\n",
    "#study_results_complete.groupby(['Drug Regimen','Tumor Volume (mm3)']).mean()\n",
    "\n",
    "# Need to create BINs?"
   ]
  },
  {
   "cell_type": "code",
   "execution_count": 14,
   "metadata": {},
   "outputs": [],
   "source": [
    "# Playing with ...\n",
    "#tumor_volume_ramicane = study_results_complete['Tumor Volume (mm3)'][study_results_complete['Drug Regimen'] =='Ramicane']\n",
    "#print(f\"The total tumor volume for Ramicane is {tumor_volume_ramicane}\")"
   ]
  },
  {
   "cell_type": "markdown",
   "metadata": {},
   "source": [
    "## Summary statistics\n",
    "Generate a summary statistics table of mean, median, variance, standard deviation, and SEM of the tumor volume for each regimen"
   ]
  },
  {
   "cell_type": "code",
   "execution_count": 15,
   "metadata": {
    "scrolled": false
   },
   "outputs": [
    {
     "data": {
      "text/plain": [
       "array(['Ramicane', 'Capomulin', 'Infubinol', 'Placebo', 'Ceftamin',\n",
       "       'Stelasyn', 'Zoniferol', 'Ketapril', 'Propriva', 'Naftisol'],\n",
       "      dtype=object)"
      ]
     },
     "execution_count": 15,
     "metadata": {},
     "output_type": "execute_result"
    }
   ],
   "source": [
    "# List all treatment regimens\n",
    "study_results_complete['Drug Regimen'].unique()"
   ]
  },
  {
   "cell_type": "code",
   "execution_count": 16,
   "metadata": {},
   "outputs": [],
   "source": [
    "# Isolate tumor volume data\n",
    "tumor_vol_all = study_results_complete['Tumor Volume (mm3)']"
   ]
  },
  {
   "cell_type": "code",
   "execution_count": 17,
   "metadata": {},
   "outputs": [],
   "source": [
    "# Extract tumor volume data for each regimen\n",
    "# Code refactor option(s): (1) Create function, (2) Place in for loop, (3) Both 1 & 2\n",
    "tumor_vol_ramicane = tumor_vol_all[study_results_complete['Drug Regimen'] =='Ramicane']\n",
    "tumor_vol_capomulin = tumor_vol_all[study_results_complete['Drug Regimen'] =='Capomulin']\n",
    "tumor_vol_infubinol = tumor_vol_all[study_results_complete['Drug Regimen'] =='Infubinol']\n",
    "tumor_vol_placebo = tumor_vol_all[study_results_complete['Drug Regimen'] =='Placebo']\n",
    "tumor_vol_ceftamin = tumor_vol_all[study_results_complete['Drug Regimen'] =='Ceftamin']\n",
    "tumor_vol_stelasyn = tumor_vol_all[study_results_complete['Drug Regimen'] =='Stelasyn']\n",
    "tumor_vol_zoniferol = tumor_vol_all[study_results_complete['Drug Regimen'] =='Zoniferol']\n",
    "tumor_vol_ketapril = tumor_vol_all[study_results_complete['Drug Regimen'] =='Ketapril']\n",
    "tumor_vol_propriva = tumor_vol_all[study_results_complete['Drug Regimen'] =='Propriva']\n",
    "tumor_vol_naftisol = tumor_vol_all[study_results_complete['Drug Regimen'] =='Naftisol']\n"
   ]
  },
  {
   "cell_type": "code",
   "execution_count": 18,
   "metadata": {},
   "outputs": [],
   "source": [
    "# Mean of the tumor volume for each regimen\n",
    "# Code refactor option(s): (1) Create function, (2) Place in for loop, (3) Both 1 & 2\n",
    "mean_tumor_vol_ramicane = np.mean(tumor_vol_ramicane)\n",
    "mean_tumor_vol_capomulin = np.mean(tumor_vol_capomulin)\n",
    "mean_tumor_vol_infubinol = np.mean(tumor_vol_infubinol)\n",
    "mean_tumor_vol_placebo = np.mean(tumor_vol_placebo)\n",
    "mean_tumor_vol_ceftamin = np.mean(tumor_vol_ceftamin)\n",
    "mean_tumor_vol_stelasyn = np.mean(tumor_vol_stelasyn)\n",
    "mean_tumor_vol_zoniferol = np.mean(tumor_vol_zoniferol)\n",
    "mean_tumor_vol_ketapril = np.mean(tumor_vol_ketapril)\n",
    "mean_tumor_vol_propriva = np.mean(tumor_vol_propriva)\n",
    "mean_tumor_vol_naftisol = np.mean(tumor_vol_naftisol)"
   ]
  },
  {
   "cell_type": "code",
   "execution_count": 19,
   "metadata": {},
   "outputs": [],
   "source": [
    "# Median of the tumor volume for each regimen\n",
    "# Code refactor option(s): (1) Create function, (2) Place in for loop, (3) Both 1 & 2\n",
    "median_tumor_vol_ramicane = np.median(tumor_vol_ramicane)\n",
    "median_tumor_vol_capomulin = np.median(tumor_vol_capomulin)\n",
    "median_tumor_vol_infubinol = np.median(tumor_vol_infubinol)\n",
    "median_tumor_vol_placebo = np.median(tumor_vol_placebo)\n",
    "median_tumor_vol_ceftamin = np.median(tumor_vol_ceftamin)\n",
    "median_tumor_vol_stelasyn = np.median(tumor_vol_stelasyn)\n",
    "median_tumor_vol_zoniferol = np.median(tumor_vol_zoniferol)\n",
    "median_tumor_vol_ketapril = np.median(tumor_vol_ketapril)\n",
    "median_tumor_vol_propriva = np.median(tumor_vol_propriva)\n",
    "median_tumor_vol_naftisol = np.median(tumor_vol_naftisol)"
   ]
  },
  {
   "cell_type": "code",
   "execution_count": 20,
   "metadata": {},
   "outputs": [],
   "source": [
    "# Variance of the tumor volume for each regimen\n",
    "# Code refactor option(s): (1) Create function, (2) Place in for loop, (3) Both 1 & 2\n",
    "var_tumor_vol_ramicane = np.var(tumor_vol_ramicane, ddof=1)\n",
    "var_tumor_vol_capomulin = np.var(tumor_vol_capomulin, ddof=1)\n",
    "var_tumor_vol_infubinol = np.var(tumor_vol_infubinol, ddof=1)\n",
    "var_tumor_vol_placebo = np.var(tumor_vol_placebo, ddof=1)\n",
    "var_tumor_vol_ceftamin = np.var(tumor_vol_ceftamin, ddof=1)\n",
    "var_tumor_vol_stelasyn = np.var(tumor_vol_stelasyn, ddof=1)\n",
    "var_tumor_vol_zoniferol = np.var(tumor_vol_zoniferol, ddof=1)\n",
    "var_tumor_vol_ketapril = np.var(tumor_vol_ketapril, ddof=1)\n",
    "var_tumor_vol_propriva = np.var(tumor_vol_propriva, ddof=1)\n",
    "var_tumor_vol_naftisol = np.var(tumor_vol_naftisol, ddof=1)"
   ]
  },
  {
   "cell_type": "code",
   "execution_count": 21,
   "metadata": {},
   "outputs": [],
   "source": [
    "# standard deviation of the tumor volume for each regimen\n",
    "std_tumor_vol_ramicane = np.std(tumor_vol_ramicane, ddof=1)\n",
    "std_tumor_vol_capomulin = np.std(tumor_vol_capomulin, ddof=1)\n",
    "std_tumor_vol_infubinol = np.std(tumor_vol_infubinol, ddof=1)\n",
    "std_tumor_vol_placebo = np.std(tumor_vol_placebo, ddof=1)\n",
    "std_tumor_vol_ceftamin = np.std(tumor_vol_ceftamin, ddof=1)\n",
    "std_tumor_vol_stelasyn = np.std(tumor_vol_stelasyn, ddof=1)\n",
    "std_tumor_vol_zoniferol = np.std(tumor_vol_zoniferol, ddof=1)\n",
    "std_tumor_vol_ketapril = np.std(tumor_vol_ketapril, ddof=1)\n",
    "std_tumor_vol_propriva = np.std(tumor_vol_propriva, ddof=1)\n",
    "std_tumor_vol_naftisol = np.std(tumor_vol_naftisol, ddof=1)"
   ]
  },
  {
   "cell_type": "code",
   "execution_count": 22,
   "metadata": {},
   "outputs": [],
   "source": [
    "# Standard Error of Mean (SEM) of the tumor volume for each regimen\n",
    "# See matplotlib_03_04-Ins_Standard_Error\n",
    "sem_tumor_vol_ramicane = st.sem(tumor_vol_ramicane)\n",
    "sem_tumor_vol_capomulin = st.sem(tumor_vol_capomulin)\n",
    "sem_tumor_vol_infubinol = st.sem(tumor_vol_infubinol)\n",
    "sem_tumor_vol_placebo = st.sem(tumor_vol_placebo)\n",
    "sem_tumor_vol_ceftamin = st.sem(tumor_vol_ceftamin)\n",
    "sem_tumor_vol_stelasyn = st.sem(tumor_vol_stelasyn)\n",
    "sem_tumor_vol_zoniferol = st.sem(tumor_vol_zoniferol)\n",
    "sem_tumor_vol_ketapril = st.sem(tumor_vol_ketapril)\n",
    "sem_tumor_vol_propriva = st.sem(tumor_vol_propriva)\n",
    "sem_tumor_vol_naftisol = st.sem(tumor_vol_naftisol)"
   ]
  },
  {
   "cell_type": "code",
   "execution_count": 23,
   "metadata": {},
   "outputs": [
    {
     "data": {
      "text/html": [
       "<div>\n",
       "<style scoped>\n",
       "    .dataframe tbody tr th:only-of-type {\n",
       "        vertical-align: middle;\n",
       "    }\n",
       "\n",
       "    .dataframe tbody tr th {\n",
       "        vertical-align: top;\n",
       "    }\n",
       "\n",
       "    .dataframe thead th {\n",
       "        text-align: right;\n",
       "    }\n",
       "</style>\n",
       "<table border=\"1\" class=\"dataframe\">\n",
       "  <thead>\n",
       "    <tr style=\"text-align: right;\">\n",
       "      <th></th>\n",
       "      <th>Drug Regimen</th>\n",
       "      <th>Mean</th>\n",
       "      <th>Median</th>\n",
       "      <th>Variance</th>\n",
       "      <th>Standard Deviation</th>\n",
       "      <th>SEM</th>\n",
       "    </tr>\n",
       "  </thead>\n",
       "  <tbody>\n",
       "    <tr>\n",
       "      <td>0</td>\n",
       "      <td>Ramicane</td>\n",
       "      <td>40.216745</td>\n",
       "      <td>40.673236</td>\n",
       "      <td>23.486704</td>\n",
       "      <td>4.846308</td>\n",
       "      <td>0.320955</td>\n",
       "    </tr>\n",
       "    <tr>\n",
       "      <td>1</td>\n",
       "      <td>Capomulin</td>\n",
       "      <td>40.675741</td>\n",
       "      <td>41.557809</td>\n",
       "      <td>24.947764</td>\n",
       "      <td>4.994774</td>\n",
       "      <td>0.329346</td>\n",
       "    </tr>\n",
       "    <tr>\n",
       "      <td>2</td>\n",
       "      <td>Infubinol</td>\n",
       "      <td>52.884795</td>\n",
       "      <td>51.820584</td>\n",
       "      <td>43.128684</td>\n",
       "      <td>6.567243</td>\n",
       "      <td>0.492236</td>\n",
       "    </tr>\n",
       "    <tr>\n",
       "      <td>3</td>\n",
       "      <td>Placebo</td>\n",
       "      <td>54.033581</td>\n",
       "      <td>52.288934</td>\n",
       "      <td>61.168083</td>\n",
       "      <td>7.821003</td>\n",
       "      <td>0.581331</td>\n",
       "    </tr>\n",
       "    <tr>\n",
       "      <td>4</td>\n",
       "      <td>Ceftamin</td>\n",
       "      <td>52.591172</td>\n",
       "      <td>51.776157</td>\n",
       "      <td>39.290177</td>\n",
       "      <td>6.268188</td>\n",
       "      <td>0.469821</td>\n",
       "    </tr>\n",
       "    <tr>\n",
       "      <td>5</td>\n",
       "      <td>Stelasyn</td>\n",
       "      <td>54.233149</td>\n",
       "      <td>52.431737</td>\n",
       "      <td>59.450562</td>\n",
       "      <td>7.710419</td>\n",
       "      <td>0.573111</td>\n",
       "    </tr>\n",
       "    <tr>\n",
       "      <td>6</td>\n",
       "      <td>Zoniferol</td>\n",
       "      <td>53.236507</td>\n",
       "      <td>51.818479</td>\n",
       "      <td>48.533355</td>\n",
       "      <td>6.966589</td>\n",
       "      <td>0.516398</td>\n",
       "    </tr>\n",
       "    <tr>\n",
       "      <td>7</td>\n",
       "      <td>Ketapril</td>\n",
       "      <td>55.235638</td>\n",
       "      <td>53.698743</td>\n",
       "      <td>68.553577</td>\n",
       "      <td>8.279709</td>\n",
       "      <td>0.603860</td>\n",
       "    </tr>\n",
       "    <tr>\n",
       "      <td>8</td>\n",
       "      <td>Propriva</td>\n",
       "      <td>52.322552</td>\n",
       "      <td>50.854632</td>\n",
       "      <td>42.351070</td>\n",
       "      <td>6.507770</td>\n",
       "      <td>0.512884</td>\n",
       "    </tr>\n",
       "    <tr>\n",
       "      <td>9</td>\n",
       "      <td>Naftisol</td>\n",
       "      <td>54.331565</td>\n",
       "      <td>52.509285</td>\n",
       "      <td>66.173479</td>\n",
       "      <td>8.134708</td>\n",
       "      <td>0.596466</td>\n",
       "    </tr>\n",
       "  </tbody>\n",
       "</table>\n",
       "</div>"
      ],
      "text/plain": [
       "  Drug Regimen       Mean     Median   Variance  Standard Deviation       SEM\n",
       "0     Ramicane  40.216745  40.673236  23.486704            4.846308  0.320955\n",
       "1    Capomulin  40.675741  41.557809  24.947764            4.994774  0.329346\n",
       "2    Infubinol  52.884795  51.820584  43.128684            6.567243  0.492236\n",
       "3      Placebo  54.033581  52.288934  61.168083            7.821003  0.581331\n",
       "4     Ceftamin  52.591172  51.776157  39.290177            6.268188  0.469821\n",
       "5     Stelasyn  54.233149  52.431737  59.450562            7.710419  0.573111\n",
       "6    Zoniferol  53.236507  51.818479  48.533355            6.966589  0.516398\n",
       "7     Ketapril  55.235638  53.698743  68.553577            8.279709  0.603860\n",
       "8     Propriva  52.322552  50.854632  42.351070            6.507770  0.512884\n",
       "9     Naftisol  54.331565  52.509285  66.173479            8.134708  0.596466"
      ]
     },
     "execution_count": 23,
     "metadata": {},
     "output_type": "execute_result"
    }
   ],
   "source": [
    "# Generate a summary statistics table of mean, median, variance, standard deviation, \n",
    "# and SEM of the tumor volume for each regimen\n",
    "tumor_summary_data = pd.DataFrame({\n",
    "    \"Drug Regimen\":['Ramicane', 'Capomulin', 'Infubinol', 'Placebo',\n",
    "                    'Ceftamin', 'Stelasyn', 'Zoniferol', 'Ketapril',\n",
    "                    'Propriva', 'Naftisol'],\n",
    "    \"Mean\":[mean_tumor_vol_ramicane, mean_tumor_vol_capomulin, mean_tumor_vol_infubinol, mean_tumor_vol_placebo,\n",
    "            mean_tumor_vol_ceftamin, mean_tumor_vol_stelasyn, mean_tumor_vol_zoniferol, mean_tumor_vol_ketapril,\n",
    "            mean_tumor_vol_propriva, mean_tumor_vol_naftisol],\n",
    "    \"Median\":[median_tumor_vol_ramicane, median_tumor_vol_capomulin, median_tumor_vol_infubinol, median_tumor_vol_placebo,\n",
    "              median_tumor_vol_ceftamin, median_tumor_vol_stelasyn, median_tumor_vol_zoniferol, median_tumor_vol_ketapril,\n",
    "              median_tumor_vol_propriva, median_tumor_vol_naftisol],\n",
    "    \"Variance\":[var_tumor_vol_ramicane, var_tumor_vol_capomulin, var_tumor_vol_infubinol, var_tumor_vol_placebo,\n",
    "                var_tumor_vol_ceftamin, var_tumor_vol_stelasyn, var_tumor_vol_zoniferol, var_tumor_vol_ketapril,\n",
    "                var_tumor_vol_propriva, var_tumor_vol_naftisol],\n",
    "    \"Standard Deviation\":[std_tumor_vol_ramicane, std_tumor_vol_capomulin, std_tumor_vol_infubinol, std_tumor_vol_placebo,\n",
    "                          std_tumor_vol_ceftamin, std_tumor_vol_stelasyn, std_tumor_vol_zoniferol, std_tumor_vol_ketapril,\n",
    "                          std_tumor_vol_propriva, std_tumor_vol_naftisol],\n",
    "    \"SEM\":[sem_tumor_vol_ramicane, sem_tumor_vol_capomulin, sem_tumor_vol_infubinol, sem_tumor_vol_placebo,\n",
    "           sem_tumor_vol_ceftamin, sem_tumor_vol_stelasyn, sem_tumor_vol_zoniferol, sem_tumor_vol_ketapril,\n",
    "           sem_tumor_vol_propriva, sem_tumor_vol_naftisol]\n",
    "})\n",
    "\n",
    "tumor_summary_data"
   ]
  },
  {
   "cell_type": "markdown",
   "metadata": {},
   "source": [
    "## Bar plots\n",
    "Generate a bar plot showing number of data points for each treatment regimen...\n",
    "\n",
    "*The following plots should look identical*\n",
    "\n",
    "** Consider side-by-side bars\n",
    "\n",
    "https://stackoverflow.com/questions/10369681/how-to-plot-bar-graphs-with-same-x-coordinates-side-by-side-dodged\n",
    "https://pandas.pydata.org/pandas-docs/stable/reference/api/pandas.DataFrame.plot.bar.html"
   ]
  },
  {
   "cell_type": "code",
   "execution_count": null,
   "metadata": {},
   "outputs": [],
   "source": [
    "mean_tumor_vol = tumor_summary_data['Mean']"
   ]
  },
  {
   "cell_type": "code",
   "execution_count": 39,
   "metadata": {},
   "outputs": [
    {
     "data": {
      "image/png": "[encoded data removed]",
      "text/plain": [
       "<Figure size 432x288 with 1 Axes>"
      ]
     },
     "metadata": {
      "needs_background": "light"
     },
     "output_type": "display_data"
    }
   ],
   "source": [
    "# Using Pandas 'DataFrame.plot()'\n",
    ">>> df = pd.DataFrame({'Drug Regimen':study_results_complete['Drug Regimen'].unique(), 'Tumor Volume (mm3)':mean_tumor_vol})\n",
    ">>> ax = df.plot.bar(x='Drug Regimen', y='Tumor Volume (mm3)', color='r', alpha=0.5, align=\"center\")"
   ]
  },
  {
   "cell_type": "code",
   "execution_count": 27,
   "metadata": {},
   "outputs": [
    {
     "data": {
      "text/plain": [
       "<BarContainer object of 10 artists>"
      ]
     },
     "execution_count": 27,
     "metadata": {},
     "output_type": "execute_result"
    },
    {
     "data": {
      "image/png": "[encoded data removed]",
      "text/plain": [
       "<Figure size 432x288 with 1 Axes>"
      ]
     },
     "metadata": {
      "needs_background": "light"
     },
     "output_type": "display_data"
    }
   ],
   "source": [
    "# Using Matplotlib's pyplot\n",
    "mean_tumor_vol = tumor_summary_data['Mean']\n",
    "x_axis = np.arange(len(mean_tumor_vol))\n",
    "\n",
    "# Tell matplotlib where we would like to place each of our x axis headers\n",
    "tick_locations = [value for value in x_axis]\n",
    "plt.xticks(tick_locations, study_results_complete['Drug Regimen'].unique(), rotation=45)\n",
    "\n",
    "# Sets the x limits of the current chart\n",
    "plt.xlim(-0.75, len(x_axis)-0.25)\n",
    "\n",
    "# Sets the y limits of the current chart\n",
    "plt.ylim(0, max(mean_tumor_vol)*1.05)\n",
    "\n",
    "# Give our chart some labels and a tile\n",
    "plt.title(\"Mean Tumor Volume\")\n",
    "plt.xlabel(\"Drug Regimen\")\n",
    "plt.ylabel(\"Tumor Volume (mm3)\")\n",
    "\n",
    "plt.bar(x_axis, mean_tumor_vol, color='r', alpha=0.5, align=\"center\")"
   ]
  },
  {
   "cell_type": "code",
   "execution_count": null,
   "metadata": {},
   "outputs": [],
   "source": []
  },
  {
   "cell_type": "markdown",
   "metadata": {},
   "source": [
    "## Pie plots\n",
    "Generate a pie plot showing the distribution of female versus male mice...\n",
    "\n",
    "*The following plots should look identical*"
   ]
  },
  {
   "cell_type": "code",
   "execution_count": null,
   "metadata": {},
   "outputs": [],
   "source": [
    "# Using Pandas 'DataFrame.plot()'"
   ]
  },
  {
   "cell_type": "code",
   "execution_count": null,
   "metadata": {},
   "outputs": [],
   "source": [
    "# Using Matplotlib's pyplot"
   ]
  },
  {
   "cell_type": "markdown",
   "metadata": {},
   "source": [
    "## Quartiles, outliers and boxplots"
   ]
  },
  {
   "cell_type": "code",
   "execution_count": null,
   "metadata": {},
   "outputs": [],
   "source": [
    "# Calculate the final tumor volume of each mouse across four of the most promising treatment regimens:\n",
    "# Capomulin, Ramicane, Infubinol, and Ceftamin"
   ]
  },
  {
   "cell_type": "code",
   "execution_count": null,
   "metadata": {},
   "outputs": [],
   "source": [
    "# Calculate the quartiles and IQR and quantitatively determine if there are any potential outliers across\n",
    "# all four treatment regimens"
   ]
  },
  {
   "cell_type": "code",
   "execution_count": null,
   "metadata": {},
   "outputs": [],
   "source": [
    "# Using Matplotlib, generate a box and whisker plot of the final tumor volume for all four treatment regimens\n",
    "# and highlight any potential outliers in the plot by changing their color and style.\n",
    "\n",
    "## Hint: All four box plots should be within the same figure. Use this Matplotlib documentation page for help\n",
    "## with changing the style of the outliers.\n",
    "# https://matplotlib.org/gallery/pyplots/boxplot_demo_pyplot.html#sphx-glr-gallery-pyplots-boxplot-demo-pyplot-py\n",
    "# ../01-Lesson-Plans/05-Matplotlib/3/Activities/02-Ins_Quartiles_and_Outliers/Solved/samples.ipynb"
   ]
  },
  {
   "cell_type": "markdown",
   "metadata": {},
   "source": [
    "## Line and scatter plots"
   ]
  },
  {
   "cell_type": "code",
   "execution_count": null,
   "metadata": {},
   "outputs": [],
   "source": [
    "# Generate a line plot of time point versus tumor volume for a single mouse treated with Capomulin"
   ]
  },
  {
   "cell_type": "code",
   "execution_count": null,
   "metadata": {},
   "outputs": [],
   "source": [
    "# Generate a scatter plot of mouse weight versus average tumor volume for the Capomulin treatment regimen"
   ]
  },
  {
   "cell_type": "code",
   "execution_count": null,
   "metadata": {},
   "outputs": [],
   "source": [
    "# Calculate the correlation coefficient and linear regression model between mouse weight and average tumor volume\n",
    "# for the Capomulin treatment."
   ]
  },
  {
   "cell_type": "code",
   "execution_count": null,
   "metadata": {},
   "outputs": [],
   "source": [
    "# Plot the linear regression model on top of the previous scatter plot"
   ]
  },
  {
   "cell_type": "code",
   "execution_count": null,
   "metadata": {},
   "outputs": [],
   "source": []
  }
 ],
 "metadata": {
  "anaconda-cloud": {},
  "kernelspec": {
   "display_name": "Python 3",
   "language": "python",
   "name": "python3"
  },
  "language_info": {
   "codemirror_mode": {
    "name": "ipython",
    "version": 3
   },
   "file_extension": ".py",
   "mimetype": "text/x-python",
   "name": "python",
   "nbconvert_exporter": "python",
   "pygments_lexer": "ipython3",
   "version": "3.7.4"
  }
 },
 "nbformat": 4,
 "nbformat_minor": 2
}
